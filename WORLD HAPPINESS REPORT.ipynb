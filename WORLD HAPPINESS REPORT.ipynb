{
 "cells": [
  {
   "cell_type": "code",
   "execution_count": 19,
   "id": "0c68f216",
   "metadata": {},
   "outputs": [],
   "source": [
    "import pandas as pd\n",
    "import numpy as np\n",
    "import matplotlib.pyplot as plt\n",
    "import seaborn as sns\n",
    "%matplotlib inline"
   ]
  },
  {
   "cell_type": "code",
   "execution_count": 15,
   "id": "63371924",
   "metadata": {},
   "outputs": [],
   "source": [
    "data2015=pd.read_csv(\"C:/Users/USER/Desktop/2015.csv\")\n",
    "data2016=pd.read_csv(\"C:/Users/USER/Desktop/2016.csv\")\n",
    "data2017=pd.read_csv(\"C:/Users/USER/Desktop/2017.csv\")\n",
    "data2018=pd.read_csv(\"C:/Users/USER/Desktop/2018.csv\")\n",
    "data2019=pd.read_csv(\"C:/Users/USER/Desktop/2019.csv\")"
   ]
  },
  {
   "cell_type": "code",
   "execution_count": 32,
   "id": "9fe02a12",
   "metadata": {},
   "outputs": [
    {
     "name": "stdout",
     "output_type": "stream",
     "text": [
      "<class 'pandas.core.frame.DataFrame'>\n",
      "RangeIndex: 156 entries, 0 to 155\n",
      "Data columns (total 9 columns):\n",
      " #   Column                        Non-Null Count  Dtype  \n",
      "---  ------                        --------------  -----  \n",
      " 0   Overall rank                  156 non-null    int64  \n",
      " 1   Country or region             156 non-null    object \n",
      " 2   Score                         156 non-null    float64\n",
      " 3   GDP per capita                156 non-null    float64\n",
      " 4   Social support                156 non-null    float64\n",
      " 5   Healthy life expectancy       156 non-null    float64\n",
      " 6   Freedom to make life choices  156 non-null    float64\n",
      " 7   Generosity                    156 non-null    float64\n",
      " 8   Perceptions of corruption     155 non-null    float64\n",
      "dtypes: float64(7), int64(1), object(1)\n",
      "memory usage: 11.1+ KB\n"
     ]
    }
   ],
   "source": [
    "data2018.info()"
   ]
  },
  {
   "cell_type": "code",
   "execution_count": 33,
   "id": "433ffcfb",
   "metadata": {},
   "outputs": [
    {
     "data": {
      "text/html": [
       "<div>\n",
       "<style scoped>\n",
       "    .dataframe tbody tr th:only-of-type {\n",
       "        vertical-align: middle;\n",
       "    }\n",
       "\n",
       "    .dataframe tbody tr th {\n",
       "        vertical-align: top;\n",
       "    }\n",
       "\n",
       "    .dataframe thead th {\n",
       "        text-align: right;\n",
       "    }\n",
       "</style>\n",
       "<table border=\"1\" class=\"dataframe\">\n",
       "  <thead>\n",
       "    <tr style=\"text-align: right;\">\n",
       "      <th></th>\n",
       "      <th>Overall rank</th>\n",
       "      <th>Country or region</th>\n",
       "      <th>Score</th>\n",
       "      <th>GDP per capita</th>\n",
       "      <th>Social support</th>\n",
       "      <th>Healthy life expectancy</th>\n",
       "      <th>Freedom to make life choices</th>\n",
       "      <th>Generosity</th>\n",
       "      <th>Perceptions of corruption</th>\n",
       "    </tr>\n",
       "  </thead>\n",
       "  <tbody>\n",
       "    <tr>\n",
       "      <th>0</th>\n",
       "      <td>1</td>\n",
       "      <td>Finland</td>\n",
       "      <td>7.632</td>\n",
       "      <td>1.305</td>\n",
       "      <td>1.592</td>\n",
       "      <td>0.874</td>\n",
       "      <td>0.681</td>\n",
       "      <td>0.202</td>\n",
       "      <td>0.393</td>\n",
       "    </tr>\n",
       "    <tr>\n",
       "      <th>1</th>\n",
       "      <td>2</td>\n",
       "      <td>Norway</td>\n",
       "      <td>7.594</td>\n",
       "      <td>1.456</td>\n",
       "      <td>1.582</td>\n",
       "      <td>0.861</td>\n",
       "      <td>0.686</td>\n",
       "      <td>0.286</td>\n",
       "      <td>0.340</td>\n",
       "    </tr>\n",
       "    <tr>\n",
       "      <th>2</th>\n",
       "      <td>3</td>\n",
       "      <td>Denmark</td>\n",
       "      <td>7.555</td>\n",
       "      <td>1.351</td>\n",
       "      <td>1.590</td>\n",
       "      <td>0.868</td>\n",
       "      <td>0.683</td>\n",
       "      <td>0.284</td>\n",
       "      <td>0.408</td>\n",
       "    </tr>\n",
       "    <tr>\n",
       "      <th>3</th>\n",
       "      <td>4</td>\n",
       "      <td>Iceland</td>\n",
       "      <td>7.495</td>\n",
       "      <td>1.343</td>\n",
       "      <td>1.644</td>\n",
       "      <td>0.914</td>\n",
       "      <td>0.677</td>\n",
       "      <td>0.353</td>\n",
       "      <td>0.138</td>\n",
       "    </tr>\n",
       "    <tr>\n",
       "      <th>4</th>\n",
       "      <td>5</td>\n",
       "      <td>Switzerland</td>\n",
       "      <td>7.487</td>\n",
       "      <td>1.420</td>\n",
       "      <td>1.549</td>\n",
       "      <td>0.927</td>\n",
       "      <td>0.660</td>\n",
       "      <td>0.256</td>\n",
       "      <td>0.357</td>\n",
       "    </tr>\n",
       "  </tbody>\n",
       "</table>\n",
       "</div>"
      ],
      "text/plain": [
       "   Overall rank Country or region  Score  GDP per capita  Social support  \\\n",
       "0             1           Finland  7.632           1.305           1.592   \n",
       "1             2            Norway  7.594           1.456           1.582   \n",
       "2             3           Denmark  7.555           1.351           1.590   \n",
       "3             4           Iceland  7.495           1.343           1.644   \n",
       "4             5       Switzerland  7.487           1.420           1.549   \n",
       "\n",
       "   Healthy life expectancy  Freedom to make life choices  Generosity  \\\n",
       "0                    0.874                         0.681       0.202   \n",
       "1                    0.861                         0.686       0.286   \n",
       "2                    0.868                         0.683       0.284   \n",
       "3                    0.914                         0.677       0.353   \n",
       "4                    0.927                         0.660       0.256   \n",
       "\n",
       "   Perceptions of corruption  \n",
       "0                      0.393  \n",
       "1                      0.340  \n",
       "2                      0.408  \n",
       "3                      0.138  \n",
       "4                      0.357  "
      ]
     },
     "execution_count": 33,
     "metadata": {},
     "output_type": "execute_result"
    }
   ],
   "source": [
    "data2018.head()"
   ]
  },
  {
   "cell_type": "code",
   "execution_count": 34,
   "id": "4c865524",
   "metadata": {},
   "outputs": [
    {
     "name": "stderr",
     "output_type": "stream",
     "text": [
      "C:\\Users\\USER\\AppData\\Local\\Temp\\ipykernel_10508\\2000422372.py:1: FutureWarning: The default value of numeric_only in DataFrame.mean is deprecated. In a future version, it will default to False. In addition, specifying 'numeric_only=None' is deprecated. Select only valid columns or specify the value of numeric_only to silence this warning.\n",
      "  datamean=data2018.loc[:, data2018.columns.drop(['Overall rank', 'Score'])].mean()\n"
     ]
    }
   ],
   "source": [
    "datamean=data2018.loc[:, data2018.columns.drop(['Overall rank', 'Score'])].mean()"
   ]
  },
  {
   "cell_type": "code",
   "execution_count": 26,
   "id": "8875659f",
   "metadata": {},
   "outputs": [
    {
     "data": {
      "text/plain": [
       "GDP per capita                  0.905147\n",
       "Social support                  1.208814\n",
       "Healthy life expectancy         0.725244\n",
       "Freedom to make life choices    0.392571\n",
       "Generosity                      0.184846\n",
       "Perceptions of corruption       0.110603\n",
       "dtype: float64"
      ]
     },
     "execution_count": 26,
     "metadata": {},
     "output_type": "execute_result"
    }
   ],
   "source": [
    "datamean"
   ]
  },
  {
   "cell_type": "code",
   "execution_count": 35,
   "id": "d81234b4",
   "metadata": {},
   "outputs": [
    {
     "data": {
      "text/plain": [
       "Text(0, 0.5, 'Frequency')"
      ]
     },
     "execution_count": 35,
     "metadata": {},
     "output_type": "execute_result"
    },
    {
     "data": {
      "image/png": "[encoded data removed]",
      "text/plain": [
       "<Figure size 720x576 with 1 Axes>"
      ]
     },
     "metadata": {
      "needs_background": "light"
     },
     "output_type": "display_data"
    }
   ],
   "source": [
    "fig,ax = plt.subplots(figsize=(10,8))\n",
    "hist=plt.hist(data2018['Score'],color='red',edgecolor='grey',bins=[1,2,3,4,5,6,7,8,9])\n",
    "for hist in ax.containers:\n",
    "    ax.bar_label(hist,padding=2)\n",
    "plt.title(\"Happiness Score vs Frequency\")\n",
    "plt.xlabel(\"Happiness Score\")\n",
    "plt.ylabel(\"Frequency\")"
   ]
  },
  {
   "cell_type": "code",
   "execution_count": 36,
   "id": "7ed3e750",
   "metadata": {},
   "outputs": [
    {
     "data": {
      "text/plain": [
       "Text(0.5, 1.0, 'Contribution to Happiness w.r.t. Parameter')"
      ]
     },
     "execution_count": 36,
     "metadata": {},
     "output_type": "execute_result"
    },
    {
     "data": {
      "image/png": "[encoded data removed]",
      "text/plain": [
       "<Figure size 1152x504 with 1 Axes>"
      ]
     },
     "metadata": {
      "needs_background": "light"
     },
     "output_type": "display_data"
    }
   ],
   "source": [
    "fig,ax = plt.subplots(figsize=(16,7))\n",
    "x=datamean.iloc[0]\n",
    "y=datamean.iloc[1]\n",
    "bars=datamean.plot.bar(x,y, color=(0.1,0.1,0.1,0.1),edgecolor='orange')\n",
    "plt.xticks(rotation=0)\n",
    "for bars in ax.containers:\n",
    "    ax.bar_label(bars,padding=2)\n",
    "plt.ylabel(\"Contribution to Happiness\")\n",
    "plt.title(\"Contribution to Happiness w.r.t. Parameter\")"
   ]
  },
  {
   "cell_type": "code",
   "execution_count": 38,
   "id": "b6f6705e",
   "metadata": {},
   "outputs": [
    {
     "name": "stderr",
     "output_type": "stream",
     "text": [
      "C:\\Users\\USER\\AppData\\Local\\Temp\\ipykernel_10508\\1845417118.py:2: FutureWarning: The default value of numeric_only in DataFrame.corr is deprecated. In a future version, it will default to False. Select only valid columns or specify the value of numeric_only to silence this warning.\n",
      "  sns.heatmap(data2018.corr(), annot = True, fmt='.2g',cmap= 'coolwarm')\n"
     ]
    },
    {
     "data": {
      "text/plain": [
       "Text(0.5, 1.0, 'Correlation between Parameters')"
      ]
     },
     "execution_count": 38,
     "metadata": {},
     "output_type": "execute_result"
    },
    {
     "data": {
      "image/png": "[encoded data removed]",
      "text/plain": [
       "<Figure size 864x720 with 2 Axes>"
      ]
     },
     "metadata": {
      "needs_background": "light"
     },
     "output_type": "display_data"
    }
   ],
   "source": [
    "fig = plt.figure(figsize = (12, 10))\n",
    "sns.heatmap(data2018.corr(), annot = True, fmt='.2g',cmap= 'coolwarm')\n",
    "plt.title(\"Correlation between Parameters\")"
   ]
  },
  {
   "cell_type": "code",
   "execution_count": 39,
   "id": "d8558766",
   "metadata": {},
   "outputs": [],
   "source": [
    "GDP2015=data2015[\"Economy (GDP per Capita)\"].mean()\n",
    "GDP2016=data2016[\"Economy (GDP per Capita)\"].mean()\n",
    "GDP2017=data2017[\"Economy..GDP.per.Capita.\"].mean()\n",
    "GDP2018=data2018[\"GDP per capita\"].mean()\n",
    "GDP2019=data2019[\"GDP per capita\"].mean()\n",
    "GDP=np.array([GDP2015,GDP2016,GDP2017,GDP2018,GDP2019])\n",
    "x=np.arange(2015,2020,1)\n",
    "y=GDP"
   ]
  },
  {
   "cell_type": "code",
   "execution_count": 40,
   "id": "c5d5dfc4",
   "metadata": {},
   "outputs": [
    {
     "data": {
      "image/png": "[encoded data removed]",
      "text/plain": [
       "<Figure size 720x360 with 1 Axes>"
      ]
     },
     "metadata": {
      "needs_background": "light"
     },
     "output_type": "display_data"
    }
   ],
   "source": [
    "plt.figure(figsize=(10,5))\n",
    "plt.grid(True)\n",
    "plt.title(\"Yearwise GDP\")\n",
    "plt.xlabel(\"Year\")\n",
    "plt.ylabel(\"GDP per capita\")\n",
    "plt.xticks(x, x)\n",
    "plt.plot(x,y)\n",
    "plt.show()"
   ]
  },
  {
   "cell_type": "code",
   "execution_count": 41,
   "id": "277c77d5",
   "metadata": {},
   "outputs": [
    {
     "data": {
      "text/html": [
       "<div>\n",
       "<style scoped>\n",
       "    .dataframe tbody tr th:only-of-type {\n",
       "        vertical-align: middle;\n",
       "    }\n",
       "\n",
       "    .dataframe tbody tr th {\n",
       "        vertical-align: top;\n",
       "    }\n",
       "\n",
       "    .dataframe thead th {\n",
       "        text-align: right;\n",
       "    }\n",
       "</style>\n",
       "<table border=\"1\" class=\"dataframe\">\n",
       "  <thead>\n",
       "    <tr style=\"text-align: right;\">\n",
       "      <th></th>\n",
       "      <th>Overall rank</th>\n",
       "      <th>Country or region</th>\n",
       "      <th>Score</th>\n",
       "      <th>GDP per capita</th>\n",
       "      <th>Social support</th>\n",
       "      <th>Healthy life expectancy</th>\n",
       "      <th>Freedom to make life choices</th>\n",
       "      <th>Generosity</th>\n",
       "      <th>Perceptions of corruption</th>\n",
       "    </tr>\n",
       "  </thead>\n",
       "  <tbody>\n",
       "    <tr>\n",
       "      <th>0</th>\n",
       "      <td>1</td>\n",
       "      <td>Finland</td>\n",
       "      <td>7.632</td>\n",
       "      <td>1.305</td>\n",
       "      <td>1.592</td>\n",
       "      <td>0.874</td>\n",
       "      <td>0.681</td>\n",
       "      <td>0.202</td>\n",
       "      <td>0.393</td>\n",
       "    </tr>\n",
       "    <tr>\n",
       "      <th>1</th>\n",
       "      <td>2</td>\n",
       "      <td>Norway</td>\n",
       "      <td>7.594</td>\n",
       "      <td>1.456</td>\n",
       "      <td>1.582</td>\n",
       "      <td>0.861</td>\n",
       "      <td>0.686</td>\n",
       "      <td>0.286</td>\n",
       "      <td>0.340</td>\n",
       "    </tr>\n",
       "    <tr>\n",
       "      <th>2</th>\n",
       "      <td>3</td>\n",
       "      <td>Denmark</td>\n",
       "      <td>7.555</td>\n",
       "      <td>1.351</td>\n",
       "      <td>1.590</td>\n",
       "      <td>0.868</td>\n",
       "      <td>0.683</td>\n",
       "      <td>0.284</td>\n",
       "      <td>0.408</td>\n",
       "    </tr>\n",
       "    <tr>\n",
       "      <th>3</th>\n",
       "      <td>4</td>\n",
       "      <td>Iceland</td>\n",
       "      <td>7.495</td>\n",
       "      <td>1.343</td>\n",
       "      <td>1.644</td>\n",
       "      <td>0.914</td>\n",
       "      <td>0.677</td>\n",
       "      <td>0.353</td>\n",
       "      <td>0.138</td>\n",
       "    </tr>\n",
       "    <tr>\n",
       "      <th>4</th>\n",
       "      <td>5</td>\n",
       "      <td>Switzerland</td>\n",
       "      <td>7.487</td>\n",
       "      <td>1.420</td>\n",
       "      <td>1.549</td>\n",
       "      <td>0.927</td>\n",
       "      <td>0.660</td>\n",
       "      <td>0.256</td>\n",
       "      <td>0.357</td>\n",
       "    </tr>\n",
       "  </tbody>\n",
       "</table>\n",
       "</div>"
      ],
      "text/plain": [
       "   Overall rank Country or region  Score  GDP per capita  Social support  \\\n",
       "0             1           Finland  7.632           1.305           1.592   \n",
       "1             2            Norway  7.594           1.456           1.582   \n",
       "2             3           Denmark  7.555           1.351           1.590   \n",
       "3             4           Iceland  7.495           1.343           1.644   \n",
       "4             5       Switzerland  7.487           1.420           1.549   \n",
       "\n",
       "   Healthy life expectancy  Freedom to make life choices  Generosity  \\\n",
       "0                    0.874                         0.681       0.202   \n",
       "1                    0.861                         0.686       0.286   \n",
       "2                    0.868                         0.683       0.284   \n",
       "3                    0.914                         0.677       0.353   \n",
       "4                    0.927                         0.660       0.256   \n",
       "\n",
       "   Perceptions of corruption  \n",
       "0                      0.393  \n",
       "1                      0.340  \n",
       "2                      0.408  \n",
       "3                      0.138  \n",
       "4                      0.357  "
      ]
     },
     "execution_count": 41,
     "metadata": {},
     "output_type": "execute_result"
    }
   ],
   "source": [
    "data2018.head()"
   ]
  },
  {
   "cell_type": "code",
   "execution_count": 43,
   "id": "a04d5646",
   "metadata": {},
   "outputs": [
    {
     "data": {
      "text/html": [
       "<div>\n",
       "<style scoped>\n",
       "    .dataframe tbody tr th:only-of-type {\n",
       "        vertical-align: middle;\n",
       "    }\n",
       "\n",
       "    .dataframe tbody tr th {\n",
       "        vertical-align: top;\n",
       "    }\n",
       "\n",
       "    .dataframe thead th {\n",
       "        text-align: right;\n",
       "    }\n",
       "</style>\n",
       "<table border=\"1\" class=\"dataframe\">\n",
       "  <thead>\n",
       "    <tr style=\"text-align: right;\">\n",
       "      <th></th>\n",
       "      <th>Overall rank</th>\n",
       "      <th>Country or region</th>\n",
       "      <th>Score</th>\n",
       "      <th>GDP per capita</th>\n",
       "      <th>Social support</th>\n",
       "      <th>Healthy life expectancy</th>\n",
       "      <th>Freedom to make life choices</th>\n",
       "      <th>Generosity</th>\n",
       "      <th>Perceptions of corruption</th>\n",
       "    </tr>\n",
       "  </thead>\n",
       "  <tbody>\n",
       "    <tr>\n",
       "      <th>33</th>\n",
       "      <td>34</td>\n",
       "      <td>Singapore</td>\n",
       "      <td>6.343</td>\n",
       "      <td>1.529</td>\n",
       "      <td>1.451</td>\n",
       "      <td>1.008</td>\n",
       "      <td>0.631</td>\n",
       "      <td>0.261</td>\n",
       "      <td>0.457</td>\n",
       "    </tr>\n",
       "    <tr>\n",
       "      <th>150</th>\n",
       "      <td>151</td>\n",
       "      <td>Rwanda</td>\n",
       "      <td>3.408</td>\n",
       "      <td>0.332</td>\n",
       "      <td>0.896</td>\n",
       "      <td>0.400</td>\n",
       "      <td>0.636</td>\n",
       "      <td>0.200</td>\n",
       "      <td>0.444</td>\n",
       "    </tr>\n",
       "    <tr>\n",
       "      <th>2</th>\n",
       "      <td>3</td>\n",
       "      <td>Denmark</td>\n",
       "      <td>7.555</td>\n",
       "      <td>1.351</td>\n",
       "      <td>1.590</td>\n",
       "      <td>0.868</td>\n",
       "      <td>0.683</td>\n",
       "      <td>0.284</td>\n",
       "      <td>0.408</td>\n",
       "    </tr>\n",
       "    <tr>\n",
       "      <th>0</th>\n",
       "      <td>1</td>\n",
       "      <td>Finland</td>\n",
       "      <td>7.632</td>\n",
       "      <td>1.305</td>\n",
       "      <td>1.592</td>\n",
       "      <td>0.874</td>\n",
       "      <td>0.681</td>\n",
       "      <td>0.202</td>\n",
       "      <td>0.393</td>\n",
       "    </tr>\n",
       "    <tr>\n",
       "      <th>7</th>\n",
       "      <td>8</td>\n",
       "      <td>New Zealand</td>\n",
       "      <td>7.324</td>\n",
       "      <td>1.268</td>\n",
       "      <td>1.601</td>\n",
       "      <td>0.876</td>\n",
       "      <td>0.669</td>\n",
       "      <td>0.365</td>\n",
       "      <td>0.389</td>\n",
       "    </tr>\n",
       "    <tr>\n",
       "      <th>...</th>\n",
       "      <td>...</td>\n",
       "      <td>...</td>\n",
       "      <td>...</td>\n",
       "      <td>...</td>\n",
       "      <td>...</td>\n",
       "      <td>...</td>\n",
       "      <td>...</td>\n",
       "      <td>...</td>\n",
       "      <td>...</td>\n",
       "    </tr>\n",
       "    <tr>\n",
       "      <th>49</th>\n",
       "      <td>50</td>\n",
       "      <td>Lithuania</td>\n",
       "      <td>5.952</td>\n",
       "      <td>1.197</td>\n",
       "      <td>1.527</td>\n",
       "      <td>0.716</td>\n",
       "      <td>0.350</td>\n",
       "      <td>0.026</td>\n",
       "      <td>0.006</td>\n",
       "    </tr>\n",
       "    <tr>\n",
       "      <th>51</th>\n",
       "      <td>52</td>\n",
       "      <td>Romania</td>\n",
       "      <td>5.945</td>\n",
       "      <td>1.116</td>\n",
       "      <td>1.219</td>\n",
       "      <td>0.726</td>\n",
       "      <td>0.528</td>\n",
       "      <td>0.088</td>\n",
       "      <td>0.001</td>\n",
       "    </tr>\n",
       "    <tr>\n",
       "      <th>92</th>\n",
       "      <td>93</td>\n",
       "      <td>Bosnia and Herzegovina</td>\n",
       "      <td>5.129</td>\n",
       "      <td>0.915</td>\n",
       "      <td>1.078</td>\n",
       "      <td>0.758</td>\n",
       "      <td>0.280</td>\n",
       "      <td>0.216</td>\n",
       "      <td>0.000</td>\n",
       "    </tr>\n",
       "    <tr>\n",
       "      <th>66</th>\n",
       "      <td>67</td>\n",
       "      <td>Moldova</td>\n",
       "      <td>5.640</td>\n",
       "      <td>0.657</td>\n",
       "      <td>1.301</td>\n",
       "      <td>0.620</td>\n",
       "      <td>0.232</td>\n",
       "      <td>0.171</td>\n",
       "      <td>0.000</td>\n",
       "    </tr>\n",
       "    <tr>\n",
       "      <th>19</th>\n",
       "      <td>20</td>\n",
       "      <td>United Arab Emirates</td>\n",
       "      <td>6.774</td>\n",
       "      <td>2.096</td>\n",
       "      <td>0.776</td>\n",
       "      <td>0.670</td>\n",
       "      <td>0.284</td>\n",
       "      <td>0.186</td>\n",
       "      <td>NaN</td>\n",
       "    </tr>\n",
       "  </tbody>\n",
       "</table>\n",
       "<p>156 rows × 9 columns</p>\n",
       "</div>"
      ],
      "text/plain": [
       "     Overall rank       Country or region  Score  GDP per capita  \\\n",
       "33             34               Singapore  6.343           1.529   \n",
       "150           151                  Rwanda  3.408           0.332   \n",
       "2               3                 Denmark  7.555           1.351   \n",
       "0               1                 Finland  7.632           1.305   \n",
       "7               8             New Zealand  7.324           1.268   \n",
       "..            ...                     ...    ...             ...   \n",
       "49             50               Lithuania  5.952           1.197   \n",
       "51             52                 Romania  5.945           1.116   \n",
       "92             93  Bosnia and Herzegovina  5.129           0.915   \n",
       "66             67                 Moldova  5.640           0.657   \n",
       "19             20    United Arab Emirates  6.774           2.096   \n",
       "\n",
       "     Social support  Healthy life expectancy  Freedom to make life choices  \\\n",
       "33            1.451                    1.008                         0.631   \n",
       "150           0.896                    0.400                         0.636   \n",
       "2             1.590                    0.868                         0.683   \n",
       "0             1.592                    0.874                         0.681   \n",
       "7             1.601                    0.876                         0.669   \n",
       "..              ...                      ...                           ...   \n",
       "49            1.527                    0.716                         0.350   \n",
       "51            1.219                    0.726                         0.528   \n",
       "92            1.078                    0.758                         0.280   \n",
       "66            1.301                    0.620                         0.232   \n",
       "19            0.776                    0.670                         0.284   \n",
       "\n",
       "     Generosity  Perceptions of corruption  \n",
       "33        0.261                      0.457  \n",
       "150       0.200                      0.444  \n",
       "2         0.284                      0.408  \n",
       "0         0.202                      0.393  \n",
       "7         0.365                      0.389  \n",
       "..          ...                        ...  \n",
       "49        0.026                      0.006  \n",
       "51        0.088                      0.001  \n",
       "92        0.216                      0.000  \n",
       "66        0.171                      0.000  \n",
       "19        0.186                        NaN  \n",
       "\n",
       "[156 rows x 9 columns]"
      ]
     },
     "execution_count": 43,
     "metadata": {},
     "output_type": "execute_result"
    }
   ],
   "source": [
    "data2018.sort_values(by=\"Perceptions of corruption\",ascending=False)"
   ]
  },
  {
   "cell_type": "code",
   "execution_count": 44,
   "id": "d67a6a93",
   "metadata": {},
   "outputs": [],
   "source": [
    "data2018region=pd.merge(data2018,data2016[[\"Country\",\"Region\"]],left_on=\"Country or region\",right_on=\"Country\",how=\"left\")"
   ]
  },
  {
   "cell_type": "code",
   "execution_count": 45,
   "id": "8cc47eb3",
   "metadata": {},
   "outputs": [
    {
     "data": {
      "text/plain": [
       "Region\n",
       "Australia and New Zealand          7.298000\n",
       "North America                      7.107000\n",
       "Western Europe                     6.829100\n",
       "Latin America and Caribbean        5.938619\n",
       "Eastern Asia                       5.672000\n",
       "Central and Eastern Europe         5.463966\n",
       "Southeastern Asia                  5.313444\n",
       "Middle East and Northern Africa    5.282737\n",
       "Southern Asia                      4.603857\n",
       "Sub-Saharan Africa                 4.230500\n",
       "Name: Score, dtype: float64"
      ]
     },
     "execution_count": 45,
     "metadata": {},
     "output_type": "execute_result"
    }
   ],
   "source": [
    "data2018region.groupby('Region')[\"Score\"].mean().sort_values(ascending=False)"
   ]
  },
  {
   "cell_type": "code",
   "execution_count": 46,
   "id": "7e327f97",
   "metadata": {},
   "outputs": [
    {
     "data": {
      "text/plain": [
       "Overall rank                    0\n",
       "Country or region               0\n",
       "Score                           0\n",
       "GDP per capita                  0\n",
       "Social support                  0\n",
       "Healthy life expectancy         0\n",
       "Freedom to make life choices    0\n",
       "Generosity                      0\n",
       "Perceptions of corruption       1\n",
       "Country                         5\n",
       "Region                          5\n",
       "dtype: int64"
      ]
     },
     "execution_count": 46,
     "metadata": {},
     "output_type": "execute_result"
    }
   ],
   "source": [
    "data2018region.isnull().sum()"
   ]
  },
  {
   "cell_type": "code",
   "execution_count": 47,
   "id": "bc3013e6",
   "metadata": {},
   "outputs": [
    {
     "data": {
      "text/html": [
       "<div>\n",
       "<style scoped>\n",
       "    .dataframe tbody tr th:only-of-type {\n",
       "        vertical-align: middle;\n",
       "    }\n",
       "\n",
       "    .dataframe tbody tr th {\n",
       "        vertical-align: top;\n",
       "    }\n",
       "\n",
       "    .dataframe thead th {\n",
       "        text-align: right;\n",
       "    }\n",
       "</style>\n",
       "<table border=\"1\" class=\"dataframe\">\n",
       "  <thead>\n",
       "    <tr style=\"text-align: right;\">\n",
       "      <th></th>\n",
       "      <th>Overall rank</th>\n",
       "      <th>Country or region</th>\n",
       "      <th>Score</th>\n",
       "      <th>GDP per capita</th>\n",
       "      <th>Social support</th>\n",
       "      <th>Healthy life expectancy</th>\n",
       "      <th>Freedom to make life choices</th>\n",
       "      <th>Generosity</th>\n",
       "      <th>Perceptions of corruption</th>\n",
       "      <th>Country</th>\n",
       "      <th>Region</th>\n",
       "    </tr>\n",
       "  </thead>\n",
       "  <tbody>\n",
       "    <tr>\n",
       "      <th>37</th>\n",
       "      <td>38</td>\n",
       "      <td>Trinidad &amp; Tobago</td>\n",
       "      <td>6.192</td>\n",
       "      <td>1.223</td>\n",
       "      <td>1.492</td>\n",
       "      <td>0.564</td>\n",
       "      <td>0.575</td>\n",
       "      <td>0.171</td>\n",
       "      <td>0.019</td>\n",
       "      <td>NaN</td>\n",
       "      <td>NaN</td>\n",
       "    </tr>\n",
       "    <tr>\n",
       "      <th>57</th>\n",
       "      <td>58</td>\n",
       "      <td>Northern Cyprus</td>\n",
       "      <td>5.835</td>\n",
       "      <td>1.229</td>\n",
       "      <td>1.211</td>\n",
       "      <td>0.909</td>\n",
       "      <td>0.495</td>\n",
       "      <td>0.179</td>\n",
       "      <td>0.154</td>\n",
       "      <td>NaN</td>\n",
       "      <td>NaN</td>\n",
       "    </tr>\n",
       "    <tr>\n",
       "      <th>122</th>\n",
       "      <td>123</td>\n",
       "      <td>Mozambique</td>\n",
       "      <td>4.417</td>\n",
       "      <td>0.198</td>\n",
       "      <td>0.902</td>\n",
       "      <td>0.173</td>\n",
       "      <td>0.531</td>\n",
       "      <td>0.206</td>\n",
       "      <td>0.158</td>\n",
       "      <td>NaN</td>\n",
       "      <td>NaN</td>\n",
       "    </tr>\n",
       "    <tr>\n",
       "      <th>140</th>\n",
       "      <td>141</td>\n",
       "      <td>Lesotho</td>\n",
       "      <td>3.808</td>\n",
       "      <td>0.472</td>\n",
       "      <td>1.215</td>\n",
       "      <td>0.079</td>\n",
       "      <td>0.423</td>\n",
       "      <td>0.116</td>\n",
       "      <td>0.112</td>\n",
       "      <td>NaN</td>\n",
       "      <td>NaN</td>\n",
       "    </tr>\n",
       "    <tr>\n",
       "      <th>154</th>\n",
       "      <td>155</td>\n",
       "      <td>Central African Republic</td>\n",
       "      <td>3.083</td>\n",
       "      <td>0.024</td>\n",
       "      <td>0.000</td>\n",
       "      <td>0.010</td>\n",
       "      <td>0.305</td>\n",
       "      <td>0.218</td>\n",
       "      <td>0.038</td>\n",
       "      <td>NaN</td>\n",
       "      <td>NaN</td>\n",
       "    </tr>\n",
       "  </tbody>\n",
       "</table>\n",
       "</div>"
      ],
      "text/plain": [
       "     Overall rank         Country or region  Score  GDP per capita  \\\n",
       "37             38         Trinidad & Tobago  6.192           1.223   \n",
       "57             58           Northern Cyprus  5.835           1.229   \n",
       "122           123                Mozambique  4.417           0.198   \n",
       "140           141                   Lesotho  3.808           0.472   \n",
       "154           155  Central African Republic  3.083           0.024   \n",
       "\n",
       "     Social support  Healthy life expectancy  Freedom to make life choices  \\\n",
       "37            1.492                    0.564                         0.575   \n",
       "57            1.211                    0.909                         0.495   \n",
       "122           0.902                    0.173                         0.531   \n",
       "140           1.215                    0.079                         0.423   \n",
       "154           0.000                    0.010                         0.305   \n",
       "\n",
       "     Generosity  Perceptions of corruption Country Region  \n",
       "37        0.171                      0.019     NaN    NaN  \n",
       "57        0.179                      0.154     NaN    NaN  \n",
       "122       0.206                      0.158     NaN    NaN  \n",
       "140       0.116                      0.112     NaN    NaN  \n",
       "154       0.218                      0.038     NaN    NaN  "
      ]
     },
     "execution_count": 47,
     "metadata": {},
     "output_type": "execute_result"
    }
   ],
   "source": [
    "data2018region[data2018region[\"Region\"].isna()]"
   ]
  },
  {
   "cell_type": "code",
   "execution_count": 48,
   "id": "5f6486da",
   "metadata": {},
   "outputs": [],
   "source": [
    "data2018region.loc[data2018region['Country or region'] == 'Trinidad & Tobago','Region'] = data2018region.loc[data2018region['Country or region'] == 'Trinidad & Tobago','Region'].fillna(value=\"Latin America and Caribbean\")\n",
    "data2018region.loc[data2018region['Country or region'] == 'Northern Cyprus','Region'] = data2018region.loc[data2018region['Country or region'] == 'Northern Cyprus','Region'].fillna(value=\"Western Europe\")\n",
    "data2018region.loc[data2018region['Country or region'] == 'Mozambique','Region'] = data2018region.loc[data2018region['Country or region'] == 'Mozambique','Region'].fillna(value=\"Sub-Saharan Africa\")\n",
    "data2018region.loc[data2018region['Country or region'] == 'Lesotho','Region'] = data2018region.loc[data2018region['Country or region'] == 'Lesotho','Region'].fillna(value=\"Sub-Saharan Africa\")\n",
    "data2018region.loc[data2018region['Country or region'] == 'Central African Republic','Region'] = data2018region.loc[data2018region['Country or region'] == 'Central African Republic','Region'].fillna(value=\"Sub-Saharan Africa\")"
   ]
  },
  {
   "cell_type": "code",
   "execution_count": 49,
   "id": "7588df67",
   "metadata": {},
   "outputs": [
    {
     "data": {
      "text/plain": [
       "Overall rank                    0\n",
       "Country or region               0\n",
       "Score                           0\n",
       "GDP per capita                  0\n",
       "Social support                  0\n",
       "Healthy life expectancy         0\n",
       "Freedom to make life choices    0\n",
       "Generosity                      0\n",
       "Perceptions of corruption       1\n",
       "Country                         5\n",
       "Region                          0\n",
       "dtype: int64"
      ]
     },
     "execution_count": 49,
     "metadata": {},
     "output_type": "execute_result"
    }
   ],
   "source": [
    "df2019region.loc[df2019region['Country or region'] == 'Trinidad & Tobago','Region'] = df2019region.loc[df2019region['Country or region'] == 'Trinidad & Tobago','Region'].fillna(value=\"Latin America and Caribbean\")\n",
    "df2019region.loc[df2019region['Country or region'] == 'Northern Cyprus','Region'] = df2019region.loc[df2019region['Country or region'] == 'Northern Cyprus','Region'].fillna(value=\"Western Europe\")\n",
    "df2019region.loc[df2019region['Country or region'] == 'North Macedonia','Region'] = df2019region.loc[df2019region['Country or region'] == 'North Macedonia','Region'].fillna(value=\"Central and Eastern Europe\")\n",
    "df2019region.loc[df2019region['Country or region'] == 'Somalia','Region'] = df2019region.loc[df2019region['Country or region'] == 'Somalia','Region'].fillna(value=\"Sub-Saharan Africa\")\n",
    "df2019region.loc[df2019region['Country or region'] == 'Namibia','Region'] = df2019region.loc[df2019region['Country or region'] == 'Namibia','Region'].fillna(value=\"Sub-Saharan Africa\")\n",
    "df2019region.loc[df2019region['Country or region'] == 'Gambia','Region'] = df2019region.loc[df2019region['Country or region'] == 'Gambia','Region'].fillna(value=\"Sub-Saharan Africa\")\n",
    "df2019region.loc[df2019region['Country or region'] == 'South Sudan','Region'] = df2019region.loc[df2019region['Country or region'] == 'South Sudan','Region'].fillna(value=\"Sub-Saharan Africa\")\n",
    "df2019region.loc[df2019region['Country or region'] == 'Mozambique','Region'] = df2019region.loc[df2019region['Country or region'] == 'Mozambique','Region'].fillna(value=\"Sub-Saharan Africa\")\n",
    "df2019region.loc[df2019region['Country or region'] == 'Swaziland','Region'] = df2019region.loc[df2019region['Country or region'] == 'Swaziland','Region'].fillna(value=\"Sub-Saharan Africa\")\n",
    "df2019region.loc[df2019region['Country or region'] == 'Lesotho','Region'] = df2019region.loc[df2019region['Country or region'] == 'Lesotho','Region'].fillna(value=\"Sub-Saharan Africa\")\n",
    "df2019region.loc[df2019region['Country or region'] == 'Central African Republic','Region'] = df2019region.loc[df2019region['Country or region'] == 'Central African Republic','Region'].fillna(value=\"Sub-Saharan Africa\")"
   ]
  },
  {
   "cell_type": "code",
   "execution_count": 51,
   "id": "9f91f78d",
   "metadata": {},
   "outputs": [
    {
     "data": {
      "text/html": [
       "<div>\n",
       "<style scoped>\n",
       "    .dataframe tbody tr th:only-of-type {\n",
       "        vertical-align: middle;\n",
       "    }\n",
       "\n",
       "    .dataframe tbody tr th {\n",
       "        vertical-align: top;\n",
       "    }\n",
       "\n",
       "    .dataframe thead th {\n",
       "        text-align: right;\n",
       "    }\n",
       "</style>\n",
       "<table border=\"1\" class=\"dataframe\">\n",
       "  <thead>\n",
       "    <tr style=\"text-align: right;\">\n",
       "      <th></th>\n",
       "      <th>Score</th>\n",
       "      <th>GDP per capita</th>\n",
       "      <th>Social support</th>\n",
       "      <th>Healthy life expectancy</th>\n",
       "      <th>Freedom to make life choices</th>\n",
       "      <th>Generosity</th>\n",
       "      <th>Perceptions of corruption</th>\n",
       "    </tr>\n",
       "    <tr>\n",
       "      <th>Region</th>\n",
       "      <th></th>\n",
       "      <th></th>\n",
       "      <th></th>\n",
       "      <th></th>\n",
       "      <th></th>\n",
       "      <th></th>\n",
       "      <th></th>\n",
       "    </tr>\n",
       "  </thead>\n",
       "  <tbody>\n",
       "    <tr>\n",
       "      <th>Australia and New Zealand</th>\n",
       "      <td>7.298000</td>\n",
       "      <td>1.304000</td>\n",
       "      <td>1.587000</td>\n",
       "      <td>0.893000</td>\n",
       "      <td>0.658000</td>\n",
       "      <td>0.363000</td>\n",
       "      <td>0.345500</td>\n",
       "    </tr>\n",
       "    <tr>\n",
       "      <th>North America</th>\n",
       "      <td>7.107000</td>\n",
       "      <td>1.364000</td>\n",
       "      <td>1.501500</td>\n",
       "      <td>0.857500</td>\n",
       "      <td>0.600000</td>\n",
       "      <td>0.306000</td>\n",
       "      <td>0.212000</td>\n",
       "    </tr>\n",
       "    <tr>\n",
       "      <th>Western Europe</th>\n",
       "      <td>6.781762</td>\n",
       "      <td>1.321048</td>\n",
       "      <td>1.476476</td>\n",
       "      <td>0.896429</td>\n",
       "      <td>0.556476</td>\n",
       "      <td>0.221714</td>\n",
       "      <td>0.211286</td>\n",
       "    </tr>\n",
       "    <tr>\n",
       "      <th>Latin America and Caribbean</th>\n",
       "      <td>5.950136</td>\n",
       "      <td>0.901318</td>\n",
       "      <td>1.335318</td>\n",
       "      <td>0.652864</td>\n",
       "      <td>0.505500</td>\n",
       "      <td>0.141409</td>\n",
       "      <td>0.077000</td>\n",
       "    </tr>\n",
       "    <tr>\n",
       "      <th>Eastern Asia</th>\n",
       "      <td>5.672000</td>\n",
       "      <td>1.205500</td>\n",
       "      <td>1.341833</td>\n",
       "      <td>0.867333</td>\n",
       "      <td>0.455167</td>\n",
       "      <td>0.155500</td>\n",
       "      <td>0.117500</td>\n",
       "    </tr>\n",
       "    <tr>\n",
       "      <th>Central and Eastern Europe</th>\n",
       "      <td>5.463966</td>\n",
       "      <td>0.989345</td>\n",
       "      <td>1.325862</td>\n",
       "      <td>0.686690</td>\n",
       "      <td>0.398241</td>\n",
       "      <td>0.133000</td>\n",
       "      <td>0.062276</td>\n",
       "    </tr>\n",
       "    <tr>\n",
       "      <th>Southeastern Asia</th>\n",
       "      <td>5.313444</td>\n",
       "      <td>0.894000</td>\n",
       "      <td>1.257111</td>\n",
       "      <td>0.605333</td>\n",
       "      <td>0.591667</td>\n",
       "      <td>0.311222</td>\n",
       "      <td>0.129333</td>\n",
       "    </tr>\n",
       "    <tr>\n",
       "      <th>Middle East and Northern Africa</th>\n",
       "      <td>5.282737</td>\n",
       "      <td>1.081158</td>\n",
       "      <td>1.110842</td>\n",
       "      <td>0.646632</td>\n",
       "      <td>0.389474</td>\n",
       "      <td>0.160947</td>\n",
       "      <td>0.122944</td>\n",
       "    </tr>\n",
       "    <tr>\n",
       "      <th>Southern Asia</th>\n",
       "      <td>4.603857</td>\n",
       "      <td>0.625143</td>\n",
       "      <td>0.974429</td>\n",
       "      <td>0.497286</td>\n",
       "      <td>0.455714</td>\n",
       "      <td>0.243571</td>\n",
       "      <td>0.097857</td>\n",
       "    </tr>\n",
       "    <tr>\n",
       "      <th>Sub-Saharan Africa</th>\n",
       "      <td>4.195026</td>\n",
       "      <td>0.442846</td>\n",
       "      <td>0.947769</td>\n",
       "      <td>0.260615</td>\n",
       "      <td>0.394487</td>\n",
       "      <td>0.173795</td>\n",
       "      <td>0.090795</td>\n",
       "    </tr>\n",
       "  </tbody>\n",
       "</table>\n",
       "</div>"
      ],
      "text/plain": [
       "                                    Score  GDP per capita  Social support  \\\n",
       "Region                                                                      \n",
       "Australia and New Zealand        7.298000        1.304000        1.587000   \n",
       "North America                    7.107000        1.364000        1.501500   \n",
       "Western Europe                   6.781762        1.321048        1.476476   \n",
       "Latin America and Caribbean      5.950136        0.901318        1.335318   \n",
       "Eastern Asia                     5.672000        1.205500        1.341833   \n",
       "Central and Eastern Europe       5.463966        0.989345        1.325862   \n",
       "Southeastern Asia                5.313444        0.894000        1.257111   \n",
       "Middle East and Northern Africa  5.282737        1.081158        1.110842   \n",
       "Southern Asia                    4.603857        0.625143        0.974429   \n",
       "Sub-Saharan Africa               4.195026        0.442846        0.947769   \n",
       "\n",
       "                                 Healthy life expectancy  \\\n",
       "Region                                                     \n",
       "Australia and New Zealand                       0.893000   \n",
       "North America                                   0.857500   \n",
       "Western Europe                                  0.896429   \n",
       "Latin America and Caribbean                     0.652864   \n",
       "Eastern Asia                                    0.867333   \n",
       "Central and Eastern Europe                      0.686690   \n",
       "Southeastern Asia                               0.605333   \n",
       "Middle East and Northern Africa                 0.646632   \n",
       "Southern Asia                                   0.497286   \n",
       "Sub-Saharan Africa                              0.260615   \n",
       "\n",
       "                                 Freedom to make life choices  Generosity  \\\n",
       "Region                                                                      \n",
       "Australia and New Zealand                            0.658000    0.363000   \n",
       "North America                                        0.600000    0.306000   \n",
       "Western Europe                                       0.556476    0.221714   \n",
       "Latin America and Caribbean                          0.505500    0.141409   \n",
       "Eastern Asia                                         0.455167    0.155500   \n",
       "Central and Eastern Europe                           0.398241    0.133000   \n",
       "Southeastern Asia                                    0.591667    0.311222   \n",
       "Middle East and Northern Africa                      0.389474    0.160947   \n",
       "Southern Asia                                        0.455714    0.243571   \n",
       "Sub-Saharan Africa                                   0.394487    0.173795   \n",
       "\n",
       "                                 Perceptions of corruption  \n",
       "Region                                                      \n",
       "Australia and New Zealand                         0.345500  \n",
       "North America                                     0.212000  \n",
       "Western Europe                                    0.211286  \n",
       "Latin America and Caribbean                       0.077000  \n",
       "Eastern Asia                                      0.117500  \n",
       "Central and Eastern Europe                        0.062276  \n",
       "Southeastern Asia                                 0.129333  \n",
       "Middle East and Northern Africa                   0.122944  \n",
       "Southern Asia                                     0.097857  \n",
       "Sub-Saharan Africa                                0.090795  "
      ]
     },
     "execution_count": 51,
     "metadata": {},
     "output_type": "execute_result"
    }
   ],
   "source": [
    "data2018region.groupby('Region')[[\"Score\",\"GDP per capita\",\"Social support\",\"Healthy life expectancy\", \"Freedom to make life choices\",\"Generosity\",\"Perceptions of corruption\"]].mean().sort_values(by=\"Score\",ascending=False)"
   ]
  },
  {
   "cell_type": "code",
   "execution_count": 53,
   "id": "4c375098",
   "metadata": {},
   "outputs": [
    {
     "data": {
      "text/html": [
       "<div>\n",
       "<style scoped>\n",
       "    .dataframe tbody tr th:only-of-type {\n",
       "        vertical-align: middle;\n",
       "    }\n",
       "\n",
       "    .dataframe tbody tr th {\n",
       "        vertical-align: top;\n",
       "    }\n",
       "\n",
       "    .dataframe thead th {\n",
       "        text-align: right;\n",
       "    }\n",
       "</style>\n",
       "<table border=\"1\" class=\"dataframe\">\n",
       "  <thead>\n",
       "    <tr style=\"text-align: right;\">\n",
       "      <th></th>\n",
       "      <th>Country</th>\n",
       "      <th>Region</th>\n",
       "      <th>Happiness Rank</th>\n",
       "      <th>Happiness Score</th>\n",
       "      <th>Standard Error</th>\n",
       "      <th>Economy (GDP per Capita)</th>\n",
       "      <th>Family</th>\n",
       "      <th>Health (Life Expectancy)</th>\n",
       "      <th>Freedom</th>\n",
       "      <th>Trust (Government Corruption)</th>\n",
       "      <th>Generosity</th>\n",
       "      <th>Dystopia Residual</th>\n",
       "    </tr>\n",
       "  </thead>\n",
       "  <tbody>\n",
       "  </tbody>\n",
       "</table>\n",
       "</div>"
      ],
      "text/plain": [
       "Empty DataFrame\n",
       "Columns: [Country, Region, Happiness Rank, Happiness Score, Standard Error, Economy (GDP per Capita), Family, Health (Life Expectancy), Freedom, Trust (Government Corruption), Generosity, Dystopia Residual]\n",
       "Index: []"
      ]
     },
     "execution_count": 53,
     "metadata": {},
     "output_type": "execute_result"
    }
   ],
   "source": [
    "data2015.head(0)"
   ]
  },
  {
   "cell_type": "code",
   "execution_count": 54,
   "id": "15f3e779",
   "metadata": {},
   "outputs": [
    {
     "data": {
      "text/html": [
       "<div>\n",
       "<style scoped>\n",
       "    .dataframe tbody tr th:only-of-type {\n",
       "        vertical-align: middle;\n",
       "    }\n",
       "\n",
       "    .dataframe tbody tr th {\n",
       "        vertical-align: top;\n",
       "    }\n",
       "\n",
       "    .dataframe thead th {\n",
       "        text-align: right;\n",
       "    }\n",
       "</style>\n",
       "<table border=\"1\" class=\"dataframe\">\n",
       "  <thead>\n",
       "    <tr style=\"text-align: right;\">\n",
       "      <th></th>\n",
       "      <th>Country</th>\n",
       "      <th>Region</th>\n",
       "      <th>Happiness Rank</th>\n",
       "      <th>Happiness Score</th>\n",
       "      <th>Lower Confidence Interval</th>\n",
       "      <th>Upper Confidence Interval</th>\n",
       "      <th>Economy (GDP per Capita)</th>\n",
       "      <th>Family</th>\n",
       "      <th>Health (Life Expectancy)</th>\n",
       "      <th>Freedom</th>\n",
       "      <th>Trust (Government Corruption)</th>\n",
       "      <th>Generosity</th>\n",
       "      <th>Dystopia Residual</th>\n",
       "    </tr>\n",
       "  </thead>\n",
       "  <tbody>\n",
       "  </tbody>\n",
       "</table>\n",
       "</div>"
      ],
      "text/plain": [
       "Empty DataFrame\n",
       "Columns: [Country, Region, Happiness Rank, Happiness Score, Lower Confidence Interval, Upper Confidence Interval, Economy (GDP per Capita), Family, Health (Life Expectancy), Freedom, Trust (Government Corruption), Generosity, Dystopia Residual]\n",
       "Index: []"
      ]
     },
     "execution_count": 54,
     "metadata": {},
     "output_type": "execute_result"
    }
   ],
   "source": [
    "data2016.head(0)"
   ]
  },
  {
   "cell_type": "code",
   "execution_count": 55,
   "id": "c5efd07b",
   "metadata": {},
   "outputs": [
    {
     "data": {
      "text/html": [
       "<div>\n",
       "<style scoped>\n",
       "    .dataframe tbody tr th:only-of-type {\n",
       "        vertical-align: middle;\n",
       "    }\n",
       "\n",
       "    .dataframe tbody tr th {\n",
       "        vertical-align: top;\n",
       "    }\n",
       "\n",
       "    .dataframe thead th {\n",
       "        text-align: right;\n",
       "    }\n",
       "</style>\n",
       "<table border=\"1\" class=\"dataframe\">\n",
       "  <thead>\n",
       "    <tr style=\"text-align: right;\">\n",
       "      <th></th>\n",
       "      <th>Country</th>\n",
       "      <th>Happiness.Rank</th>\n",
       "      <th>Happiness.Score</th>\n",
       "      <th>Whisker.high</th>\n",
       "      <th>Whisker.low</th>\n",
       "      <th>Economy..GDP.per.Capita.</th>\n",
       "      <th>Family</th>\n",
       "      <th>Health..Life.Expectancy.</th>\n",
       "      <th>Freedom</th>\n",
       "      <th>Generosity</th>\n",
       "      <th>Trust..Government.Corruption.</th>\n",
       "      <th>Dystopia.Residual</th>\n",
       "    </tr>\n",
       "  </thead>\n",
       "  <tbody>\n",
       "  </tbody>\n",
       "</table>\n",
       "</div>"
      ],
      "text/plain": [
       "Empty DataFrame\n",
       "Columns: [Country, Happiness.Rank, Happiness.Score, Whisker.high, Whisker.low, Economy..GDP.per.Capita., Family, Health..Life.Expectancy., Freedom, Generosity, Trust..Government.Corruption., Dystopia.Residual]\n",
       "Index: []"
      ]
     },
     "execution_count": 55,
     "metadata": {},
     "output_type": "execute_result"
    }
   ],
   "source": [
    "data2017.head(0)"
   ]
  },
  {
   "cell_type": "code",
   "execution_count": 56,
   "id": "98a4e9c6",
   "metadata": {},
   "outputs": [
    {
     "data": {
      "text/html": [
       "<div>\n",
       "<style scoped>\n",
       "    .dataframe tbody tr th:only-of-type {\n",
       "        vertical-align: middle;\n",
       "    }\n",
       "\n",
       "    .dataframe tbody tr th {\n",
       "        vertical-align: top;\n",
       "    }\n",
       "\n",
       "    .dataframe thead th {\n",
       "        text-align: right;\n",
       "    }\n",
       "</style>\n",
       "<table border=\"1\" class=\"dataframe\">\n",
       "  <thead>\n",
       "    <tr style=\"text-align: right;\">\n",
       "      <th></th>\n",
       "      <th>Overall rank</th>\n",
       "      <th>Country or region</th>\n",
       "      <th>Score</th>\n",
       "      <th>GDP per capita</th>\n",
       "      <th>Social support</th>\n",
       "      <th>Healthy life expectancy</th>\n",
       "      <th>Freedom to make life choices</th>\n",
       "      <th>Generosity</th>\n",
       "      <th>Perceptions of corruption</th>\n",
       "    </tr>\n",
       "  </thead>\n",
       "  <tbody>\n",
       "  </tbody>\n",
       "</table>\n",
       "</div>"
      ],
      "text/plain": [
       "Empty DataFrame\n",
       "Columns: [Overall rank, Country or region, Score, GDP per capita, Social support, Healthy life expectancy, Freedom to make life choices, Generosity, Perceptions of corruption]\n",
       "Index: []"
      ]
     },
     "execution_count": 56,
     "metadata": {},
     "output_type": "execute_result"
    }
   ],
   "source": [
    "data2018.head(0)"
   ]
  },
  {
   "cell_type": "code",
   "execution_count": 57,
   "id": "60207d23",
   "metadata": {},
   "outputs": [
    {
     "data": {
      "text/html": [
       "<div>\n",
       "<style scoped>\n",
       "    .dataframe tbody tr th:only-of-type {\n",
       "        vertical-align: middle;\n",
       "    }\n",
       "\n",
       "    .dataframe tbody tr th {\n",
       "        vertical-align: top;\n",
       "    }\n",
       "\n",
       "    .dataframe thead th {\n",
       "        text-align: right;\n",
       "    }\n",
       "</style>\n",
       "<table border=\"1\" class=\"dataframe\">\n",
       "  <thead>\n",
       "    <tr style=\"text-align: right;\">\n",
       "      <th></th>\n",
       "      <th>Overall rank</th>\n",
       "      <th>Country or region</th>\n",
       "      <th>Score</th>\n",
       "      <th>GDP per capita</th>\n",
       "      <th>Social support</th>\n",
       "      <th>Healthy life expectancy</th>\n",
       "      <th>Freedom to make life choices</th>\n",
       "      <th>Generosity</th>\n",
       "      <th>Perceptions of corruption</th>\n",
       "    </tr>\n",
       "  </thead>\n",
       "  <tbody>\n",
       "  </tbody>\n",
       "</table>\n",
       "</div>"
      ],
      "text/plain": [
       "Empty DataFrame\n",
       "Columns: [Overall rank, Country or region, Score, GDP per capita, Social support, Healthy life expectancy, Freedom to make life choices, Generosity, Perceptions of corruption]\n",
       "Index: []"
      ]
     },
     "execution_count": 57,
     "metadata": {},
     "output_type": "execute_result"
    }
   ],
   "source": [
    "data2019.head(0)"
   ]
  },
  {
   "cell_type": "code",
   "execution_count": 58,
   "id": "28b7a8d3",
   "metadata": {},
   "outputs": [
    {
     "data": {
      "text/plain": [
       "Text(0.5, 0, 'Year')"
      ]
     },
     "execution_count": 58,
     "metadata": {},
     "output_type": "execute_result"
    },
    {
     "data": {
      "image/png": "[encoded data removed]",
      "text/plain": [
       "<Figure size 576x288 with 1 Axes>"
      ]
     },
     "metadata": {
      "needs_background": "light"
     },
     "output_type": "display_data"
    }
   ],
   "source": [
    "Rank2015=data2015[data2015['Country']==\"India\"][\"Happiness Rank\"]\n",
    "Rank2016=data2016[data2016['Country']==\"India\"][\"Happiness Rank\"]\n",
    "Rank2017=data2017[data2017['Country']==\"India\"][\"Happiness.Rank\"]\n",
    "Rank2018=data2018[data2018['Country or region']==\"India\"][\"Overall rank\"]\n",
    "Rank2019=data2019[data2019['Country or region']==\"India\"][\"Overall rank\"]\n",
    "IndiaRank=np.array([Rank2015,Rank2016,Rank2017,Rank2018,Rank2019])\n",
    "years=[2015,2016,2017,2018,2019]\n",
    "x=np.array(years)\n",
    "z=IndiaRank\n",
    "fig,axes=plt.subplots(figsize=(8,4))\n",
    "plt.xticks(x, x)\n",
    "axes.plot(x,z,color=\"red\")\n",
    "axes.grid(True)\n",
    "axes.set_ylabel(\"Happiness Rank\")\n",
    "axes.set_title(\"Year vs Happiness Rank\")\n",
    "axes.set_xlabel(\"Year\")"
   ]
  },
  {
   "cell_type": "code",
   "execution_count": 59,
   "id": "9043b10f",
   "metadata": {},
   "outputs": [
    {
     "data": {
      "text/plain": [
       "[<matplotlib.lines.Line2D at 0x2573897f430>]"
      ]
     },
     "execution_count": 59,
     "metadata": {},
     "output_type": "execute_result"
    },
    {
     "data": {
      "image/png": "[encoded data removed]",
      "text/plain": [
       "<Figure size 576x288 with 1 Axes>"
      ]
     },
     "metadata": {
      "needs_background": "light"
     },
     "output_type": "display_data"
    }
   ],
   "source": [
    "Score2015=data2015[data2015['Country']==\"India\"][\"Happiness Score\"]\n",
    "Score2016=data2016[data2016['Country']==\"India\"][\"Happiness Score\"]\n",
    "Score2017=data2017[data2017['Country']==\"India\"][\"Happiness.Score\"]\n",
    "Score2018=data2018[data2018['Country or region']==\"India\"][\"Score\"]\n",
    "Score2019=data2019[data2019['Country or region']==\"India\"][\"Score\"]\n",
    "IndiaScore=np.array([Score2015,Score2016,Score2017,Score2018,Score2019])\n",
    "y=IndiaScore\n",
    "fig,axes=plt.subplots(figsize=(8,4))\n",
    "plt.xticks(x, x)\n",
    "axes.grid(True)\n",
    "axes.set_title(\"Year vs Happiness Score\")\n",
    "axes.set_ylabel(\"Happiness Score\")\n",
    "axes.set_xlabel(\"Year\")\n",
    "axes.plot(x,y,color=\"blue\")\n"
   ]
  },
  {
   "cell_type": "code",
   "execution_count": 60,
   "id": "f4d2e6e6",
   "metadata": {},
   "outputs": [],
   "source": [
    "data2019_Generosity=data2019.copy()"
   ]
  },
  {
   "cell_type": "code",
   "execution_count": 61,
   "id": "d41fe3e7",
   "metadata": {},
   "outputs": [],
   "source": [
    "data2019_Generosity[\"Generosity fraction\"]=data2019_Generosity[\"Generosity\"]/data2019_Generosity[\"Score\"]*100"
   ]
  },
  {
   "cell_type": "code",
   "execution_count": 62,
   "id": "6aef9fe8",
   "metadata": {},
   "outputs": [
    {
     "data": {
      "text/html": [
       "<div>\n",
       "<style scoped>\n",
       "    .dataframe tbody tr th:only-of-type {\n",
       "        vertical-align: middle;\n",
       "    }\n",
       "\n",
       "    .dataframe tbody tr th {\n",
       "        vertical-align: top;\n",
       "    }\n",
       "\n",
       "    .dataframe thead th {\n",
       "        text-align: right;\n",
       "    }\n",
       "</style>\n",
       "<table border=\"1\" class=\"dataframe\">\n",
       "  <thead>\n",
       "    <tr style=\"text-align: right;\">\n",
       "      <th></th>\n",
       "      <th>Overall rank</th>\n",
       "      <th>Country or region</th>\n",
       "      <th>Score</th>\n",
       "      <th>GDP per capita</th>\n",
       "      <th>Social support</th>\n",
       "      <th>Healthy life expectancy</th>\n",
       "      <th>Freedom to make life choices</th>\n",
       "      <th>Generosity</th>\n",
       "      <th>Perceptions of corruption</th>\n",
       "      <th>Generosity fraction</th>\n",
       "    </tr>\n",
       "  </thead>\n",
       "  <tbody>\n",
       "    <tr>\n",
       "      <th>130</th>\n",
       "      <td>131</td>\n",
       "      <td>Myanmar</td>\n",
       "      <td>4.360</td>\n",
       "      <td>0.710</td>\n",
       "      <td>1.181</td>\n",
       "      <td>0.555</td>\n",
       "      <td>0.525</td>\n",
       "      <td>0.566</td>\n",
       "      <td>0.172</td>\n",
       "      <td>12.981651</td>\n",
       "    </tr>\n",
       "    <tr>\n",
       "      <th>146</th>\n",
       "      <td>147</td>\n",
       "      <td>Haiti</td>\n",
       "      <td>3.597</td>\n",
       "      <td>0.323</td>\n",
       "      <td>0.688</td>\n",
       "      <td>0.449</td>\n",
       "      <td>0.026</td>\n",
       "      <td>0.419</td>\n",
       "      <td>0.110</td>\n",
       "      <td>11.648596</td>\n",
       "    </tr>\n",
       "    <tr>\n",
       "      <th>91</th>\n",
       "      <td>92</td>\n",
       "      <td>Indonesia</td>\n",
       "      <td>5.192</td>\n",
       "      <td>0.931</td>\n",
       "      <td>1.203</td>\n",
       "      <td>0.660</td>\n",
       "      <td>0.491</td>\n",
       "      <td>0.498</td>\n",
       "      <td>0.028</td>\n",
       "      <td>9.591680</td>\n",
       "    </tr>\n",
       "    <tr>\n",
       "      <th>148</th>\n",
       "      <td>149</td>\n",
       "      <td>Syria</td>\n",
       "      <td>3.462</td>\n",
       "      <td>0.619</td>\n",
       "      <td>0.378</td>\n",
       "      <td>0.440</td>\n",
       "      <td>0.013</td>\n",
       "      <td>0.331</td>\n",
       "      <td>0.141</td>\n",
       "      <td>9.560947</td>\n",
       "    </tr>\n",
       "    <tr>\n",
       "      <th>152</th>\n",
       "      <td>153</td>\n",
       "      <td>Tanzania</td>\n",
       "      <td>3.231</td>\n",
       "      <td>0.476</td>\n",
       "      <td>0.885</td>\n",
       "      <td>0.499</td>\n",
       "      <td>0.417</td>\n",
       "      <td>0.276</td>\n",
       "      <td>0.147</td>\n",
       "      <td>8.542247</td>\n",
       "    </tr>\n",
       "    <tr>\n",
       "      <th>...</th>\n",
       "      <td>...</td>\n",
       "      <td>...</td>\n",
       "      <td>...</td>\n",
       "      <td>...</td>\n",
       "      <td>...</td>\n",
       "      <td>...</td>\n",
       "      <td>...</td>\n",
       "      <td>...</td>\n",
       "      <td>...</td>\n",
       "      <td>...</td>\n",
       "    </tr>\n",
       "    <tr>\n",
       "      <th>41</th>\n",
       "      <td>42</td>\n",
       "      <td>Lithuania</td>\n",
       "      <td>6.149</td>\n",
       "      <td>1.238</td>\n",
       "      <td>1.515</td>\n",
       "      <td>0.818</td>\n",
       "      <td>0.291</td>\n",
       "      <td>0.043</td>\n",
       "      <td>0.042</td>\n",
       "      <td>0.699301</td>\n",
       "    </tr>\n",
       "    <tr>\n",
       "      <th>88</th>\n",
       "      <td>89</td>\n",
       "      <td>Morocco</td>\n",
       "      <td>5.208</td>\n",
       "      <td>0.801</td>\n",
       "      <td>0.782</td>\n",
       "      <td>0.782</td>\n",
       "      <td>0.418</td>\n",
       "      <td>0.036</td>\n",
       "      <td>0.076</td>\n",
       "      <td>0.691244</td>\n",
       "    </tr>\n",
       "    <tr>\n",
       "      <th>89</th>\n",
       "      <td>90</td>\n",
       "      <td>Azerbaijan</td>\n",
       "      <td>5.208</td>\n",
       "      <td>1.043</td>\n",
       "      <td>1.147</td>\n",
       "      <td>0.769</td>\n",
       "      <td>0.351</td>\n",
       "      <td>0.035</td>\n",
       "      <td>0.182</td>\n",
       "      <td>0.672043</td>\n",
       "    </tr>\n",
       "    <tr>\n",
       "      <th>19</th>\n",
       "      <td>20</td>\n",
       "      <td>Czech Republic</td>\n",
       "      <td>6.852</td>\n",
       "      <td>1.269</td>\n",
       "      <td>1.487</td>\n",
       "      <td>0.920</td>\n",
       "      <td>0.457</td>\n",
       "      <td>0.046</td>\n",
       "      <td>0.036</td>\n",
       "      <td>0.671337</td>\n",
       "    </tr>\n",
       "    <tr>\n",
       "      <th>81</th>\n",
       "      <td>82</td>\n",
       "      <td>Greece</td>\n",
       "      <td>5.287</td>\n",
       "      <td>1.181</td>\n",
       "      <td>1.156</td>\n",
       "      <td>0.999</td>\n",
       "      <td>0.067</td>\n",
       "      <td>0.000</td>\n",
       "      <td>0.034</td>\n",
       "      <td>0.000000</td>\n",
       "    </tr>\n",
       "  </tbody>\n",
       "</table>\n",
       "<p>156 rows × 10 columns</p>\n",
       "</div>"
      ],
      "text/plain": [
       "     Overall rank Country or region  Score  GDP per capita  Social support  \\\n",
       "130           131           Myanmar  4.360           0.710           1.181   \n",
       "146           147             Haiti  3.597           0.323           0.688   \n",
       "91             92         Indonesia  5.192           0.931           1.203   \n",
       "148           149             Syria  3.462           0.619           0.378   \n",
       "152           153          Tanzania  3.231           0.476           0.885   \n",
       "..            ...               ...    ...             ...             ...   \n",
       "41             42         Lithuania  6.149           1.238           1.515   \n",
       "88             89           Morocco  5.208           0.801           0.782   \n",
       "89             90        Azerbaijan  5.208           1.043           1.147   \n",
       "19             20    Czech Republic  6.852           1.269           1.487   \n",
       "81             82            Greece  5.287           1.181           1.156   \n",
       "\n",
       "     Healthy life expectancy  Freedom to make life choices  Generosity  \\\n",
       "130                    0.555                         0.525       0.566   \n",
       "146                    0.449                         0.026       0.419   \n",
       "91                     0.660                         0.491       0.498   \n",
       "148                    0.440                         0.013       0.331   \n",
       "152                    0.499                         0.417       0.276   \n",
       "..                       ...                           ...         ...   \n",
       "41                     0.818                         0.291       0.043   \n",
       "88                     0.782                         0.418       0.036   \n",
       "89                     0.769                         0.351       0.035   \n",
       "19                     0.920                         0.457       0.046   \n",
       "81                     0.999                         0.067       0.000   \n",
       "\n",
       "     Perceptions of corruption  Generosity fraction  \n",
       "130                      0.172            12.981651  \n",
       "146                      0.110            11.648596  \n",
       "91                       0.028             9.591680  \n",
       "148                      0.141             9.560947  \n",
       "152                      0.147             8.542247  \n",
       "..                         ...                  ...  \n",
       "41                       0.042             0.699301  \n",
       "88                       0.076             0.691244  \n",
       "89                       0.182             0.672043  \n",
       "19                       0.036             0.671337  \n",
       "81                       0.034             0.000000  \n",
       "\n",
       "[156 rows x 10 columns]"
      ]
     },
     "execution_count": 62,
     "metadata": {},
     "output_type": "execute_result"
    }
   ],
   "source": [
    "data2019_Generosity.sort_values(by=\"Generosity fraction\",ascending=False)"
   ]
  },
  {
   "cell_type": "code",
   "execution_count": 63,
   "id": "71cc5ffa",
   "metadata": {},
   "outputs": [],
   "source": [
    "MeanScore2015=data2015[\"Happiness Score\"].mean()\n",
    "MeanScore2016=data2016[\"Happiness Score\"].mean()\n",
    "MeanScore2017=data2017[\"Happiness.Score\"].mean()\n",
    "MeanScore2018=data2018[\"Score\"].mean()\n",
    "MeanScore2019=data2019[\"Score\"].mean()\n",
    "MeanScore=np.array([MeanScore2015,MeanScore2016,MeanScore2017,MeanScore2018,MeanScore2019])"
   ]
  },
  {
   "cell_type": "code",
   "execution_count": 64,
   "id": "b1c8c74a",
   "metadata": {},
   "outputs": [
    {
     "data": {
      "text/plain": [
       "array([5.37573418, 5.38218471, 5.35401936, 5.37591667, 5.40709615])"
      ]
     },
     "execution_count": 64,
     "metadata": {},
     "output_type": "execute_result"
    }
   ],
   "source": [
    "MeanScore"
   ]
  },
  {
   "cell_type": "code",
   "execution_count": 65,
   "id": "0d1f63b9",
   "metadata": {
    "scrolled": true
   },
   "outputs": [
    {
     "data": {
      "text/plain": [
       "[<matplotlib.lines.Line2D at 0x257389dfee0>]"
      ]
     },
     "execution_count": 65,
     "metadata": {},
     "output_type": "execute_result"
    },
    {
     "data": {
      "image/png": "[encoded data removed]",
      "text/plain": [
       "<Figure size 576x288 with 1 Axes>"
      ]
     },
     "metadata": {
      "needs_background": "light"
     },
     "output_type": "display_data"
    }
   ],
   "source": [
    "y=MeanScore\n",
    "fig,axes=plt.subplots(figsize=(8,4))\n",
    "years=[2015,2016,2017,2018,2019]\n",
    "x=np.array(years)\n",
    "plt.xticks(x, x)\n",
    "axes.grid(True)\n",
    "axes.set_title(\"Year vs Mean Happiness Score\")\n",
    "axes.set_ylabel(\"Mean Happiness Score\")\n",
    "axes.set_xlabel(\"Year\")\n",
    "axes.plot(x,y)"
   ]
  },
  {
   "cell_type": "code",
   "execution_count": null,
   "id": "64ce78e9",
   "metadata": {},
   "outputs": [],
   "source": []
  }
 ],
 "metadata": {
  "kernelspec": {
   "display_name": "Python 3 (ipykernel)",
   "language": "python",
   "name": "python3"
  },
  "language_info": {
   "codemirror_mode": {
    "name": "ipython",
    "version": 3
   },
   "file_extension": ".py",
   "mimetype": "text/x-python",
   "name": "python",
   "nbconvert_exporter": "python",
   "pygments_lexer": "ipython3",
   "version": "3.9.5"
  }
 },
 "nbformat": 4,
 "nbformat_minor": 5
}
